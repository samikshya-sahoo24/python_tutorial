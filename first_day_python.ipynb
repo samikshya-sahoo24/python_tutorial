{
 "cells": [
  {
   "cell_type": "code",
   "execution_count": 1,
   "id": "43c8d343",
   "metadata": {},
   "outputs": [
    {
     "name": "stdout",
     "output_type": "stream",
     "text": [
      "enter your first namesita\n"
     ]
    }
   ],
   "source": [
    "users_first_name = input(\"enter your first name\")"
   ]
  },
  {
   "cell_type": "code",
   "execution_count": 2,
   "id": "49d7ac07",
   "metadata": {},
   "outputs": [
    {
     "name": "stdout",
     "output_type": "stream",
     "text": [
      "sita\n"
     ]
    }
   ],
   "source": [
    "print(users_first_name)"
   ]
  },
  {
   "cell_type": "code",
   "execution_count": 3,
   "id": "8ba3624b",
   "metadata": {},
   "outputs": [
    {
     "name": "stdout",
     "output_type": "stream",
     "text": [
      "abhi\n"
     ]
    }
   ],
   "source": [
    "print(\"abhi\")"
   ]
  },
  {
   "cell_type": "code",
   "execution_count": 4,
   "id": "a92f9b65",
   "metadata": {},
   "outputs": [],
   "source": [
    "my_name = \"sam\""
   ]
  },
  {
   "cell_type": "code",
   "execution_count": 7,
   "id": "b20ae325",
   "metadata": {},
   "outputs": [
    {
     "data": {
      "text/plain": [
       "'SAM'"
      ]
     },
     "execution_count": 7,
     "metadata": {},
     "output_type": "execute_result"
    }
   ],
   "source": [
    "my_name.upper()"
   ]
  },
  {
   "cell_type": "code",
   "execution_count": 12,
   "id": "31b20fdf",
   "metadata": {},
   "outputs": [
    {
     "name": "stdout",
     "output_type": "stream",
     "text": [
      "enter the first number to add 10\n",
      "enter the second number to add 5\n",
      "5\n"
     ]
    }
   ],
   "source": [
    "#subtraction\n",
    "number_1 = input(\"enter the first number to add \")\n",
    "number_2 = input(\"enter the second number to add \")\n",
    "result = int(number_1) - int(number_2)\n",
    "print(result)"
   ]
  },
  {
   "cell_type": "code",
   "execution_count": 11,
   "id": "d92868e1",
   "metadata": {},
   "outputs": [
    {
     "name": "stdout",
     "output_type": "stream",
     "text": [
      "enter the first number to add 4\n",
      "enter the second number to add 3\n",
      "12\n"
     ]
    }
   ],
   "source": [
    "#multiplication\n",
    "number_1 = input(\"enter the first number to add \")\n",
    "number_2 = input(\"enter the second number to add \")\n",
    "result = int(number_1) * int(number_2)\n",
    "print(result)"
   ]
  },
  {
   "cell_type": "code",
   "execution_count": 13,
   "id": "7a294b35",
   "metadata": {},
   "outputs": [
    {
     "name": "stdout",
     "output_type": "stream",
     "text": [
      "enter the first number to add 20\n",
      "enter the second number to add 2\n",
      "10.0\n"
     ]
    }
   ],
   "source": [
    "#divide\n",
    "number_1 = input(\"enter the first number to add \")\n",
    "number_2 = input(\"enter the second number to add \")\n",
    "result = int(number_1) / int(number_2)\n",
    "print(result)\n"
   ]
  },
  {
   "cell_type": "code",
   "execution_count": 16,
   "id": "d591aa7d",
   "metadata": {},
   "outputs": [
    {
     "name": "stdout",
     "output_type": "stream",
     "text": [
      "Enter your first namesuman\n",
      "Enter your middle namekalyan\n",
      "Enter your last namesahoo\n",
      "suman kalyan sahoo\n"
     ]
    }
   ],
   "source": [
    "first_name = input(\"Enter your first name\")\n",
    "middle_name = input(\"Enter your middle name\")\n",
    "last_name = input(\"Enter your last name\")\n",
    "full_name = first_name + \" \" + middle_name + \" \" + last_name\n",
    "print(full_name)\n",
    "\n",
    "\n"
   ]
  },
  {
   "cell_type": "code",
   "execution_count": null,
   "id": "2ef6a29e",
   "metadata": {},
   "outputs": [],
   "source": []
  },
  {
   "cell_type": "code",
   "execution_count": null,
   "id": "73948935",
   "metadata": {},
   "outputs": [],
   "source": []
  },
  {
   "cell_type": "code",
   "execution_count": null,
   "id": "a9342fd4",
   "metadata": {},
   "outputs": [],
   "source": []
  },
  {
   "cell_type": "code",
   "execution_count": null,
   "id": "c27bcf19",
   "metadata": {},
   "outputs": [],
   "source": []
  },
  {
   "cell_type": "code",
   "execution_count": null,
   "id": "ad613373",
   "metadata": {},
   "outputs": [],
   "source": []
  },
  {
   "cell_type": "code",
   "execution_count": null,
   "id": "0b4e95d8",
   "metadata": {},
   "outputs": [],
   "source": []
  },
  {
   "cell_type": "code",
   "execution_count": null,
   "id": "4739612f",
   "metadata": {},
   "outputs": [],
   "source": []
  },
  {
   "cell_type": "code",
   "execution_count": null,
   "id": "bad39d59",
   "metadata": {},
   "outputs": [],
   "source": []
  },
  {
   "cell_type": "code",
   "execution_count": null,
   "id": "78ee1c56",
   "metadata": {},
   "outputs": [],
   "source": []
  },
  {
   "cell_type": "code",
   "execution_count": null,
   "id": "aa4c43f3",
   "metadata": {},
   "outputs": [],
   "source": []
  },
  {
   "cell_type": "code",
   "execution_count": null,
   "id": "d1d5e432",
   "metadata": {},
   "outputs": [],
   "source": []
  }
 ],
 "metadata": {
  "kernelspec": {
   "display_name": "Python 3 (ipykernel)",
   "language": "python",
   "name": "python3"
  },
  "language_info": {
   "codemirror_mode": {
    "name": "ipython",
    "version": 3
   },
   "file_extension": ".py",
   "mimetype": "text/x-python",
   "name": "python",
   "nbconvert_exporter": "python",
   "pygments_lexer": "ipython3",
   "version": "3.11.3"
  }
 },
 "nbformat": 4,
 "nbformat_minor": 5
}
